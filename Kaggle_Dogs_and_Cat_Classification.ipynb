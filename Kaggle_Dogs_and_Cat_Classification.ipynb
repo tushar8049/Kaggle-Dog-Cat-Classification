{
  "nbformat": 4,
  "nbformat_minor": 0,
  "metadata": {
    "colab": {
      "name": "Kaggle Dogs and Cat Classification.ipynb",
      "version": "0.3.2",
      "provenance": [],
      "include_colab_link": true
    },
    "kernelspec": {
      "name": "python3",
      "display_name": "Python 3"
    },
    "accelerator": "GPU"
  },
  "cells": [
    {
      "cell_type": "markdown",
      "metadata": {
        "id": "view-in-github",
        "colab_type": "text"
      },
      "source": [
        "<a href=\"https://colab.research.google.com/github/tushar8049/Kaggle-Dog-Cat-Classification/blob/master/Kaggle_Dogs_and_Cat_Classification.ipynb\" target=\"_parent\"><img src=\"https://colab.research.google.com/assets/colab-badge.svg\" alt=\"Open In Colab\"/></a>"
      ]
    },
    {
      "metadata": {
        "id": "Zw8_VzGnh1IO",
        "colab_type": "code",
        "colab": {}
      },
      "cell_type": "code",
      "source": [
        "import numpy as np\n",
        "import matplotlib.pyplot as plt\n",
        "import os\n",
        "import cv2\n",
        "import random\n",
        "import time"
      ],
      "execution_count": 0,
      "outputs": []
    },
    {
      "metadata": {
        "id": "G8MiP-l5-MzT",
        "colab_type": "code",
        "colab": {
          "base_uri": "https://localhost:8080/",
          "height": 34
        },
        "outputId": "420741db-5b32-4514-98f0-ae46d56faa61"
      },
      "cell_type": "code",
      "source": [
        "!git clone https://github.com/tushar8049/Datasets.git"
      ],
      "execution_count": 22,
      "outputs": [
        {
          "output_type": "stream",
          "text": [
            "fatal: destination path 'Datasets' already exists and is not an empty directory.\n"
          ],
          "name": "stdout"
        }
      ]
    },
    {
      "metadata": {
        "id": "HEKFwEmcL6s2",
        "colab_type": "code",
        "colab": {}
      },
      "cell_type": "code",
      "source": [
        "datadir = \"Datasets/Kaggle-Cats and Dogs/PetImages\"\n",
        "\n",
        "categories = [\"Cat\", \"Dog\"]\n",
        "\n",
        "IMGSIZE = 64"
      ],
      "execution_count": 0,
      "outputs": []
    },
    {
      "metadata": {
        "id": "7yGCtC7eTP2P",
        "colab_type": "code",
        "colab": {}
      },
      "cell_type": "code",
      "source": [
        "training_data = []\n",
        "\n",
        "def createTrainingData():\n",
        "  for category in categories:\n",
        "    path = os.path.join(datadir,category)\n",
        "    classnum = categories.index(category)\n",
        "    for img in os.listdir(path):\n",
        "      try:\n",
        "        img_array = cv2.imread(os.path.join(path,img), cv2.IMREAD_GRAYSCALE)\n",
        "        newarray = cv2.resize(img_array,(IMGSIZE,IMGSIZE))\n",
        "        training_data.append([newarray,classnum])\n",
        "      except Exception as E:\n",
        "        pass\n",
        "      \n",
        "createTrainingData()"
      ],
      "execution_count": 0,
      "outputs": []
    },
    {
      "metadata": {
        "id": "XyvyPVrsVM7z",
        "colab_type": "code",
        "colab": {}
      },
      "cell_type": "code",
      "source": [
        "random.shuffle(training_data)"
      ],
      "execution_count": 0,
      "outputs": []
    },
    {
      "metadata": {
        "id": "tRbX8zJjVcmU",
        "colab_type": "code",
        "colab": {}
      },
      "cell_type": "code",
      "source": [
        "x = []\n",
        "y = []\n",
        "\n",
        "for features,label in training_data:\n",
        "  x.append(features)\n",
        "  y.append(label)\n",
        "\n",
        "x = np.array(x).reshape(-1, IMGSIZE, IMGSIZE, 1)"
      ],
      "execution_count": 0,
      "outputs": []
    },
    {
      "metadata": {
        "id": "SmUhaYy0WNOG",
        "colab_type": "code",
        "colab": {}
      },
      "cell_type": "code",
      "source": [
        "import pickle\n",
        "pickle_out = open(\"x.pickle\",\"wb\")\n",
        "pickle.dump(x,pickle_out)\n",
        "pickle_out.close()\n",
        "\n",
        "pickle_out = open(\"y.pickle\",\"wb\")\n",
        "pickle.dump(y,pickle_out)\n",
        "pickle_out.close()"
      ],
      "execution_count": 0,
      "outputs": []
    },
    {
      "metadata": {
        "id": "tjK1JwJEXQQK",
        "colab_type": "code",
        "colab": {}
      },
      "cell_type": "code",
      "source": [
        "import tensorflow as tf\n",
        "from tensorflow.keras.models import Sequential\n",
        "from tensorflow.keras.layers import Dense, Dropout, Activation, Flatten, Conv2D, MaxPooling2D\n",
        "from tensorflow.keras.callbacks import TensorBoard"
      ],
      "execution_count": 0,
      "outputs": []
    },
    {
      "metadata": {
        "id": "33kZlSytnlrC",
        "colab_type": "code",
        "colab": {}
      },
      "cell_type": "code",
      "source": [
        "name = \"Cats-vs-Dogs-cnn-64x2-{}\".format(int(time.time()))\n",
        "\n",
        "tensorboard = TensorBoard(log_dir='logs/{}'.format(name))"
      ],
      "execution_count": 0,
      "outputs": []
    },
    {
      "metadata": {
        "id": "T8z7McTCcI5L",
        "colab_type": "code",
        "colab": {}
      },
      "cell_type": "code",
      "source": [
        "x = pickle.load(open(\"x.pickle\",\"rb\"))\n",
        "y = pickle.load(open(\"y.pickle\",\"rb\"))\n",
        "\n",
        "x = tf.keras.utils.normalize(x,axis=1)"
      ],
      "execution_count": 0,
      "outputs": []
    },
    {
      "metadata": {
        "id": "AdK3VplFcTf8",
        "colab_type": "code",
        "colab": {
          "base_uri": "https://localhost:8080/",
          "height": 391
        },
        "outputId": "c7acb517-7c45-4350-e650-9e616eac323b"
      },
      "cell_type": "code",
      "source": [
        "model = Sequential()\n",
        "\n",
        "model.add(Conv2D(64, (3,3), input_shape = x.shape[1:]))\n",
        "model.add(Activation(\"relu\"))\n",
        "model.add(MaxPooling2D(pool_size=(2,2)))\n",
        "\n",
        "model.add(Conv2D(64, (3,3)))\n",
        "model.add(Activation(\"relu\"))\n",
        "model.add(MaxPooling2D(pool_size=(2,2)))\n",
        "\n",
        "model.add(Conv2D(64, (3,3)))\n",
        "model.add(Activation(\"relu\"))\n",
        "model.add(MaxPooling2D(pool_size=(2,2)))\n",
        "\n",
        "model.add(Flatten())\n",
        "\n",
        "model.add(Dense(64))\n",
        "model.add(Activation(\"relu\"))\n",
        "\n",
        "model.add(Dense(1))\n",
        "model.add(Activation(\"sigmoid\"))\n",
        "\n",
        "model.compile(loss=\"binary_crossentropy\",\n",
        "             optimizer=\"adam\",\n",
        "             metrics=[\"accuracy\"])\n",
        "\n",
        "model.fit(x, y, batch_size=32, epochs=10, validation_split = 0.15, callbacks=[tensorboard])\n"
      ],
      "execution_count": 37,
      "outputs": [
        {
          "output_type": "stream",
          "text": [
            "Train on 21204 samples, validate on 3742 samples\n",
            "Epoch 1/10\n",
            "21204/21204 [==============================] - 16s 778us/step - loss: 0.6701 - acc: 0.5775 - val_loss: 0.6225 - val_acc: 0.6649\n",
            "Epoch 2/10\n",
            "21204/21204 [==============================] - 16s 757us/step - loss: 0.6116 - acc: 0.6674 - val_loss: 0.5813 - val_acc: 0.7106\n",
            "Epoch 3/10\n",
            "21204/21204 [==============================] - 16s 767us/step - loss: 0.5482 - acc: 0.7197 - val_loss: 0.5092 - val_acc: 0.7520\n",
            "Epoch 4/10\n",
            "21204/21204 [==============================] - 16s 760us/step - loss: 0.5018 - acc: 0.7529 - val_loss: 0.4980 - val_acc: 0.7608\n",
            "Epoch 5/10\n",
            "21204/21204 [==============================] - 16s 760us/step - loss: 0.4694 - acc: 0.7741 - val_loss: 0.4801 - val_acc: 0.7710\n",
            "Epoch 6/10\n",
            "21204/21204 [==============================] - 15s 699us/step - loss: 0.4418 - acc: 0.7896 - val_loss: 0.4615 - val_acc: 0.7833\n",
            "Epoch 7/10\n",
            "21204/21204 [==============================] - 14s 671us/step - loss: 0.4146 - acc: 0.8052 - val_loss: 0.4617 - val_acc: 0.7811\n",
            "Epoch 8/10\n",
            "21204/21204 [==============================] - 16s 737us/step - loss: 0.3900 - acc: 0.8221 - val_loss: 0.4464 - val_acc: 0.7945\n",
            "Epoch 9/10\n",
            "21204/21204 [==============================] - 15s 725us/step - loss: 0.3621 - acc: 0.8356 - val_loss: 0.4948 - val_acc: 0.7745\n",
            "Epoch 10/10\n",
            "21204/21204 [==============================] - 16s 757us/step - loss: 0.3389 - acc: 0.8485 - val_loss: 0.4484 - val_acc: 0.7980\n"
          ],
          "name": "stdout"
        },
        {
          "output_type": "execute_result",
          "data": {
            "text/plain": [
              "<tensorflow.python.keras.callbacks.History at 0x7ff12e596d68>"
            ]
          },
          "metadata": {
            "tags": []
          },
          "execution_count": 37
        }
      ]
    },
    {
      "metadata": {
        "id": "Lm3GGmSXsDwD",
        "colab_type": "code",
        "colab": {}
      },
      "cell_type": "code",
      "source": [
        ""
      ],
      "execution_count": 0,
      "outputs": []
    }
  ]
}