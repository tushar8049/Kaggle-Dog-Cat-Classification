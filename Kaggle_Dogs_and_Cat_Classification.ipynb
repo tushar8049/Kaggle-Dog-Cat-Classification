{
  "nbformat": 4,
  "nbformat_minor": 0,
  "metadata": {
    "colab": {
      "name": "Kaggle Dogs and Cat Classification.ipynb",
      "version": "0.3.2",
      "provenance": [],
      "include_colab_link": true
    },
    "kernelspec": {
      "name": "python3",
      "display_name": "Python 3"
    },
    "accelerator": "GPU"
  },
  "cells": [
    {
      "cell_type": "markdown",
      "metadata": {
        "id": "view-in-github",
        "colab_type": "text"
      },
      "source": [
        "<a href=\"https://colab.research.google.com/github/tushar8049/Kaggle-Dog-Cat-Classification/blob/master/Kaggle_Dogs_and_Cat_Classification.ipynb\" target=\"_parent\"><img src=\"https://colab.research.google.com/assets/colab-badge.svg\" alt=\"Open In Colab\"/></a>"
      ]
    },
    {
      "metadata": {
        "id": "Zw8_VzGnh1IO",
        "colab_type": "code",
        "colab": {}
      },
      "cell_type": "code",
      "source": [
        "import numpy as np\n",
        "import matplotlib.pyplot as plt\n",
        "import os\n",
        "import cv2\n",
        "import random"
      ],
      "execution_count": 0,
      "outputs": []
    },
    {
      "metadata": {
        "id": "G8MiP-l5-MzT",
        "colab_type": "code",
        "colab": {
          "base_uri": "https://localhost:8080/",
          "height": 153
        },
        "outputId": "04854132-b614-4cda-c626-18a200d74215"
      },
      "cell_type": "code",
      "source": [
        "!git clone https://github.com/tushar8049/Datasets.git"
      ],
      "execution_count": 2,
      "outputs": [
        {
          "output_type": "stream",
          "text": [
            "Cloning into 'Datasets'...\n",
            "remote: Enumerating objects: 24982, done.\u001b[K\n",
            "remote: Counting objects: 100% (24982/24982), done.\u001b[K\n",
            "remote: Compressing objects: 100% (24968/24968), done.\u001b[K\n",
            "remote: Total 24982 (delta 11), reused 24982 (delta 11), pack-reused 0\u001b[K\n",
            "Receiving objects: 100% (24982/24982), 783.68 MiB | 29.09 MiB/s, done.\n",
            "Resolving deltas: 100% (11/11), done.\n",
            "Checking out files: 100% (25005/25005), done.\n"
          ],
          "name": "stdout"
        }
      ]
    },
    {
      "metadata": {
        "id": "HEKFwEmcL6s2",
        "colab_type": "code",
        "colab": {}
      },
      "cell_type": "code",
      "source": [
        "datadir = \"Datasets/Kaggle-Cats and Dogs/PetImages\"\n",
        "\n",
        "categories = [\"Cat\", \"Dog\"]\n",
        "\n",
        "IMGSIZE = 64"
      ],
      "execution_count": 0,
      "outputs": []
    },
    {
      "metadata": {
        "id": "7yGCtC7eTP2P",
        "colab_type": "code",
        "colab": {}
      },
      "cell_type": "code",
      "source": [
        "training_data = []\n",
        "\n",
        "def createTrainingData():\n",
        "  for category in categories:\n",
        "    path = os.path.join(datadir,category)\n",
        "    classnum = categories.index(category)\n",
        "    for img in os.listdir(path):\n",
        "      try:\n",
        "        img_array = cv2.imread(os.path.join(path,img), cv2.IMREAD_GRAYSCALE)\n",
        "        newarray = cv2.resize(img_array,(IMGSIZE,IMGSIZE))\n",
        "        training_data.append([newarray,classnum])\n",
        "      except Exception as E:\n",
        "        pass\n",
        "      \n",
        "createTrainingData()"
      ],
      "execution_count": 0,
      "outputs": []
    },
    {
      "metadata": {
        "id": "XyvyPVrsVM7z",
        "colab_type": "code",
        "colab": {}
      },
      "cell_type": "code",
      "source": [
        "random.shuffle(training_data)"
      ],
      "execution_count": 0,
      "outputs": []
    },
    {
      "metadata": {
        "id": "tRbX8zJjVcmU",
        "colab_type": "code",
        "colab": {}
      },
      "cell_type": "code",
      "source": [
        "x = []\n",
        "y = []\n",
        "\n",
        "for features,label in training_data:\n",
        "  x.append(features)\n",
        "  y.append(label)\n",
        "\n",
        "x = np.array(x).reshape(-1, IMGSIZE, IMGSIZE, 1)"
      ],
      "execution_count": 0,
      "outputs": []
    },
    {
      "metadata": {
        "id": "SmUhaYy0WNOG",
        "colab_type": "code",
        "colab": {}
      },
      "cell_type": "code",
      "source": [
        "import pickle\n",
        "pickle_out = open(\"x.pickle\",\"wb\")\n",
        "pickle.dump(x,pickle_out)\n",
        "pickle_out.close()\n",
        "\n",
        "pickle_out = open(\"y.pickle\",\"wb\")\n",
        "pickle.dump(y,pickle_out)\n",
        "pickle_out.close()"
      ],
      "execution_count": 0,
      "outputs": []
    },
    {
      "metadata": {
        "id": "tjK1JwJEXQQK",
        "colab_type": "code",
        "colab": {}
      },
      "cell_type": "code",
      "source": [
        "import tensorflow as tf\n",
        "from tensorflow.keras.models import Sequential\n",
        "from tensorflow.keras.layers import Dense, Dropout, Activation, Flatten, Conv2D, MaxPooling2D"
      ],
      "execution_count": 0,
      "outputs": []
    },
    {
      "metadata": {
        "id": "T8z7McTCcI5L",
        "colab_type": "code",
        "colab": {}
      },
      "cell_type": "code",
      "source": [
        "x = pickle.load(open(\"x.pickle\",\"rb\"))\n",
        "y = pickle.load(open(\"y.pickle\",\"rb\"))\n",
        "\n",
        "x = tf.keras.utils.normalize(x,axis=1)"
      ],
      "execution_count": 0,
      "outputs": []
    },
    {
      "metadata": {
        "id": "AdK3VplFcTf8",
        "colab_type": "code",
        "colab": {
          "base_uri": "https://localhost:8080/",
          "height": 221
        },
        "outputId": "b3bc18f9-8d1c-4007-e167-d0cd28f36500"
      },
      "cell_type": "code",
      "source": [
        "model = Sequential()\n",
        "\n",
        "model.add(Conv2D(64, (3,3), input_shape = x.shape[1:]))\n",
        "model.add(Activation(\"relu\"))\n",
        "model.add(MaxPooling2D(pool_size=(2,2)))\n",
        "\n",
        "model.add(Conv2D(64, (3,3)))\n",
        "model.add(Activation(\"relu\"))\n",
        "model.add(MaxPooling2D(pool_size=(2,2)))\n",
        "\n",
        "model.add(Conv2D(64, (3,3)))\n",
        "model.add(Activation(\"relu\"))\n",
        "model.add(MaxPooling2D(pool_size=(2,2)))\n",
        "\n",
        "model.add(Flatten())\n",
        "\n",
        "model.add(Dense(64))\n",
        "model.add(Activation(\"relu\"))\n",
        "\n",
        "model.add(Dense(1))\n",
        "model.add(Activation(\"sigmoid\"))\n",
        "\n",
        "model.compile(loss=\"binary_crossentropy\",\n",
        "             optimizer=\"adam\",\n",
        "             metrics=[\"accuracy\"])\n",
        "\n",
        "model.fit(x, y, batch_size=32, epochs=5, validation_split = 0.15)\n"
      ],
      "execution_count": 18,
      "outputs": [
        {
          "output_type": "stream",
          "text": [
            "Train on 21204 samples, validate on 3742 samples\n",
            "Epoch 1/5\n",
            "21204/21204 [==============================] - 15s 702us/step - loss: 0.6605 - acc: 0.5954 - val_loss: 0.6063 - val_acc: 0.6809\n",
            "Epoch 2/5\n",
            "21204/21204 [==============================] - 13s 616us/step - loss: 0.5874 - acc: 0.6895 - val_loss: 0.5350 - val_acc: 0.7266\n",
            "Epoch 3/5\n",
            "21204/21204 [==============================] - 14s 650us/step - loss: 0.5172 - acc: 0.7422 - val_loss: 0.4938 - val_acc: 0.7560\n",
            "Epoch 4/5\n",
            "21204/21204 [==============================] - 14s 643us/step - loss: 0.4769 - acc: 0.7711 - val_loss: 0.4619 - val_acc: 0.7798\n",
            "Epoch 5/5\n",
            "21204/21204 [==============================] - 14s 648us/step - loss: 0.4418 - acc: 0.7931 - val_loss: 0.4458 - val_acc: 0.7924\n"
          ],
          "name": "stdout"
        },
        {
          "output_type": "execute_result",
          "data": {
            "text/plain": [
              "<tensorflow.python.keras.callbacks.History at 0x7ff12efb27b8>"
            ]
          },
          "metadata": {
            "tags": []
          },
          "execution_count": 18
        }
      ]
    },
    {
      "metadata": {
        "id": "szW4PcBbfDEk",
        "colab_type": "code",
        "colab": {}
      },
      "cell_type": "code",
      "source": [
        ""
      ],
      "execution_count": 0,
      "outputs": []
    }
  ]
}